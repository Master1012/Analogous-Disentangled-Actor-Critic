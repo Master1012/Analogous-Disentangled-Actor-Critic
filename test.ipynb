{
 "cells": [
  {
   "cell_type": "code",
   "execution_count": 4,
   "metadata": {},
   "outputs": [
    {
     "name": "stdout",
     "output_type": "stream",
     "text": [
      "['bias', 'variance']\n",
      "bias\n",
      "[0.00062517 0.00069549 0.00063446 ... 0.         0.         0.        ]\n",
      "variance\n",
      "[9.91562729e-07 1.11010502e-06 1.06038863e-06 ... 0.00000000e+00\n",
      " 0.00000000e+00 0.00000000e+00]\n"
     ]
    }
   ],
   "source": [
    "import numpy as np\n",
    "\n",
    "data = np.load('Logs\\InvertedPendulum-v5_.npz', allow_pickle=True)\n",
    "lst = data.files\n",
    "print(lst)\n",
    "for item in lst:\n",
    "    print(item)\n",
    "    print(data[item])\n",
    "# from gymnasium.envs.mujoco.mujoco_env import MujocoEnv\n",
    "# env = gym.make('Ant-v4', reset_noise_scale=0.1)"
   ]
  }
 ],
 "metadata": {
  "kernelspec": {
   "display_name": "torchenv",
   "language": "python",
   "name": "python3"
  },
  "language_info": {
   "codemirror_mode": {
    "name": "ipython",
    "version": 3
   },
   "file_extension": ".py",
   "mimetype": "text/x-python",
   "name": "python",
   "nbconvert_exporter": "python",
   "pygments_lexer": "ipython3",
   "version": "3.10.13"
  }
 },
 "nbformat": 4,
 "nbformat_minor": 2
}
